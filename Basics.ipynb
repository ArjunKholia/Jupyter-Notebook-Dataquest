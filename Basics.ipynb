{
 "cells": [
  {
   "cell_type": "code",
   "execution_count": 1,
   "metadata": {
    "collapsed": false
   },
   "outputs": [
    {
     "name": "stdout",
     "output_type": "stream",
     "text": [
      "['', 'year', 'month', 'intent', 'police', 'sex', 'age', 'race', 'hispanic', 'place', 'education']\n",
      "['1', '2012', '01', 'Suicide', '0', 'M', '34', 'Asian/Pacific Islander', '100', 'Home', '4']\n",
      "['2', '2012', '01', 'Suicide', '0', 'F', '21', 'White', '100', 'Street', '3']\n",
      "['3', '2012', '01', 'Suicide', '0', 'M', '60', 'White', '100', 'Other specified', '4']\n",
      "['4', '2012', '02', 'Suicide', '0', 'M', '64', 'White', '100', 'Home', '4']\n"
     ]
    }
   ],
   "source": [
    "import csv\n",
    "File = open(\"guns.csv\",'r')\n",
    "data = list(csv.reader(File))\n",
    "for x in range(5):\n",
    "    print(data[x])"
   ]
  },
  {
   "cell_type": "code",
   "execution_count": 2,
   "metadata": {
    "collapsed": false
   },
   "outputs": [
    {
     "name": "stdout",
     "output_type": "stream",
     "text": [
      "['', 'year', 'month', 'intent', 'police', 'sex', 'age', 'race', 'hispanic', 'place', 'education']\n",
      "['1', '2012', '01', 'Suicide', '0', 'M', '34', 'Asian/Pacific Islander', '100', 'Home', '4']\n",
      "['2', '2012', '01', 'Suicide', '0', 'F', '21', 'White', '100', 'Street', '3']\n",
      "['3', '2012', '01', 'Suicide', '0', 'M', '60', 'White', '100', 'Other specified', '4']\n",
      "['4', '2012', '02', 'Suicide', '0', 'M', '64', 'White', '100', 'Home', '4']\n",
      "['5', '2012', '02', 'Suicide', '0', 'M', '31', 'White', '100', 'Other specified', '2']\n"
     ]
    }
   ],
   "source": [
    "headers = data[0]\n",
    "data = data[1:len(data)]\n",
    "print(headers)\n",
    "for x in range(5):\n",
    "    print(data[x])"
   ]
  },
  {
   "cell_type": "code",
   "execution_count": 3,
   "metadata": {
    "collapsed": false
   },
   "outputs": [
    {
     "name": "stdout",
     "output_type": "stream",
     "text": [
      "{'2014': 33599, '2013': 33636, '2012': 33563}\n"
     ]
    }
   ],
   "source": [
    "years = []\n",
    "for x in data:\n",
    "    years.append(x[1])\n",
    "year_counts= {}\n",
    "for x in years:\n",
    "    if x in year_counts:\n",
    "        year_counts[x] += 1\n",
    "    else:\n",
    "        year_counts[x] = 1\n",
    "print(year_counts)"
   ]
  },
  {
   "cell_type": "code",
   "execution_count": 13,
   "metadata": {
    "collapsed": false
   },
   "outputs": [
    {
     "data": {
      "text/plain": [
       "[datetime.datetime(2012, 1, 1, 0, 0),\n",
       " datetime.datetime(2012, 1, 1, 0, 0),\n",
       " datetime.datetime(2012, 1, 1, 0, 0),\n",
       " datetime.datetime(2012, 2, 1, 0, 0),\n",
       " datetime.datetime(2012, 2, 1, 0, 0)]"
      ]
     },
     "execution_count": 13,
     "metadata": {},
     "output_type": "execute_result"
    }
   ],
   "source": [
    "import datetime\n",
    "dates = [datetime.datetime(year = int(x[1]), month = int(x[2]), day = 1) for x in data]\n",
    "    \n",
    "dates[:5]\n"
   ]
  },
  {
   "cell_type": "code",
   "execution_count": 14,
   "metadata": {
    "collapsed": false
   },
   "outputs": [
    {
     "name": "stdout",
     "output_type": "stream",
     "text": [
      "{datetime.datetime(2012, 11, 1, 0, 0): 2729, datetime.datetime(2013, 7, 1, 0, 0): 3079, datetime.datetime(2012, 7, 1, 0, 0): 3026, datetime.datetime(2013, 3, 1, 0, 0): 2862, datetime.datetime(2013, 4, 1, 0, 0): 2798, datetime.datetime(2014, 3, 1, 0, 0): 2684, datetime.datetime(2013, 8, 1, 0, 0): 2859, datetime.datetime(2014, 5, 1, 0, 0): 2864, datetime.datetime(2012, 2, 1, 0, 0): 2357, datetime.datetime(2014, 11, 1, 0, 0): 2756, datetime.datetime(2012, 1, 1, 0, 0): 2758, datetime.datetime(2013, 11, 1, 0, 0): 2758, datetime.datetime(2012, 3, 1, 0, 0): 2743, datetime.datetime(2013, 1, 1, 0, 0): 2864, datetime.datetime(2014, 7, 1, 0, 0): 2884, datetime.datetime(2013, 6, 1, 0, 0): 2920, datetime.datetime(2012, 8, 1, 0, 0): 2954, datetime.datetime(2014, 4, 1, 0, 0): 2862, datetime.datetime(2013, 9, 1, 0, 0): 2742, datetime.datetime(2014, 9, 1, 0, 0): 2914, datetime.datetime(2014, 12, 1, 0, 0): 2857, datetime.datetime(2014, 2, 1, 0, 0): 2361, datetime.datetime(2013, 2, 1, 0, 0): 2375, datetime.datetime(2013, 12, 1, 0, 0): 2765, datetime.datetime(2014, 1, 1, 0, 0): 2651, datetime.datetime(2013, 5, 1, 0, 0): 2806, datetime.datetime(2012, 4, 1, 0, 0): 2795, datetime.datetime(2012, 9, 1, 0, 0): 2852, datetime.datetime(2014, 8, 1, 0, 0): 2970, datetime.datetime(2014, 10, 1, 0, 0): 2865, datetime.datetime(2013, 10, 1, 0, 0): 2808, datetime.datetime(2012, 5, 1, 0, 0): 2999, datetime.datetime(2012, 10, 1, 0, 0): 2733, datetime.datetime(2012, 6, 1, 0, 0): 2826, datetime.datetime(2014, 6, 1, 0, 0): 2931, datetime.datetime(2012, 12, 1, 0, 0): 2791}\n"
     ]
    }
   ],
   "source": [
    "date_counts = {}\n",
    "\n",
    "for x in dates:\n",
    "    if x in date_counts:\n",
    "        date_counts[x] += 1\n",
    "    else:\n",
    "        date_counts[x] = 1\n",
    "print(date_counts)\n",
    "    "
   ]
  },
  {
   "cell_type": "markdown",
   "metadata": {},
   "source": [
    "sex_counts = {}\n",
    "for x in data:\n",
    "    if x[5] in sex_counts:\n",
    "        sex_counts(x[5]) += 1\n",
    "    else:\n",
    "        sex_counts(x[5]) = 1\n",
    "race_counts = {}\n",
    "for x in data:\n",
    "    if x[7] in race_counts:\n",
    "        race_counts(x[7]) += 1\n",
    "    else:\n",
    "        race_counts(x[7]) = 1\n",
    "print(sex_counts)\n",
    "print(race_counts)\n",
    "\n",
    "Counted the number of deaths in a year\n",
    "Counted the number of deaths in a Month and Year\n",
    "Counted the number of deaths for each Sex and Race\n",
    "\n",
    "Further examination is needed for age, education and intent\n",
    "    "
   ]
  },
  {
   "cell_type": "code",
   "execution_count": 17,
   "metadata": {
    "collapsed": false
   },
   "outputs": [
    {
     "name": "stdout",
     "output_type": "stream",
     "text": [
      "{'M': 86349, 'F': 14449}\n",
      "{'Asian/Pacific Islander': 1326, 'Hispanic': 9022, 'Black': 23296, 'White': 66237, 'Native American/Native Alaskan': 917}\n"
     ]
    }
   ],
   "source": [
    "sex_counts = {} \n",
    "for x in data: \n",
    "    if x[5] in sex_counts: \n",
    "        sex_counts[x[5]] += 1 \n",
    "    else: \n",
    "        sex_counts[x[5]] = 1 \n",
    "race_counts = {} \n",
    "for x in data: \n",
    "    if x[7] in race_counts: \n",
    "        race_counts[x[7]] += 1 \n",
    "    else: \n",
    "        race_counts[x[7]] = 1 \n",
    "print(sex_counts) \n",
    "print(race_counts)\n",
    "                        "
   ]
  },
  {
   "cell_type": "markdown",
   "metadata": {},
   "source": [
    "Counted the number of deaths in a year Counted the number of deaths in a Month and Year Counted the number of deaths for each Sex and Race\n",
    "Further examination is needed for age, education and intent"
   ]
  },
  {
   "cell_type": "markdown",
   "metadata": {},
   "source": [
    "##Counted the number of deaths in a year \n",
    "##Counted the number of deaths in a Month and Year \n",
    "##Counted the number of deaths for each Sex and Race\n",
    "###Further examination is needed for age, education and intent"
   ]
  },
  {
   "cell_type": "code",
   "execution_count": 18,
   "metadata": {
    "collapsed": false
   },
   "outputs": [
    {
     "name": "stdout",
     "output_type": "stream",
     "text": [
      "[['Id', 'Year', 'Id', 'Sex', 'Id', 'Hispanic Origin', 'Id', 'Id2', 'Geography', 'Total', 'Race Alone - White', 'Race Alone - Hispanic', 'Race Alone - Black or African American', 'Race Alone - American Indian and Alaska Native', 'Race Alone - Asian', 'Race Alone - Native Hawaiian and Other Pacific Islander', 'Two or More Races'], ['cen42010', 'April 1, 2010 Census', 'totsex', 'Both Sexes', 'tothisp', 'Total', '0100000US', '', 'United States', '308745538', '197318956', '44618105', '40250635', '3739506', '15159516', '674625', '6984195']]\n"
     ]
    }
   ],
   "source": [
    "census = list(csv.reader(open(\"census.csv\",'r')))\n",
    "print(census)"
   ]
  },
  {
   "cell_type": "code",
   "execution_count": 20,
   "metadata": {
    "collapsed": false
   },
   "outputs": [
    {
     "name": "stdout",
     "output_type": "stream",
     "text": [
      "{'Asian/Pacific Islander': 8.374309664161762, 'Black': 57.8773477735196, 'Native American/Native Alaskan': 24.521955573811088, 'White': 33.56849303419181, 'Hispanic': 20.220491210910907}\n"
     ]
    }
   ],
   "source": [
    "\n",
    "  \n",
    "mapping = {\"Asian/Pacific Islander\": 15159516 + 674625,\n",
    "    \"Native American/Native Alaskan\": 3739506,\n",
    "    \"Black\": 40250635,\n",
    "    \"Hispanic\": 44618105,\n",
    "    \"White\": 197318956\n",
    "}\n",
    "\n",
    "race_per_hundredk = {}\n",
    "for k,v in race_counts.items():\n",
    "    race_per_hundredk[k] = 100000*(v/mapping[k])\n",
    "    \n",
    "print(race_per_hundredk)\n"
   ]
  },
  {
   "cell_type": "code",
   "execution_count": 22,
   "metadata": {
    "collapsed": false
   },
   "outputs": [
    {
     "name": "stdout",
     "output_type": "stream",
     "text": [
      "{'Asian/Pacific Islander': 559, 'Hispanic': 5634, 'Black': 19510, 'White': 9147, 'Native American/Native Alaskan': 326}\n"
     ]
    }
   ],
   "source": [
    "intents = [x[3] for x in data]\n",
    "\n",
    "races = [x[7] for x in data]\n",
    "\n",
    "homicide_race_per_hundredk = {}\n",
    "\n",
    "for i,race in enumerate(races):\n",
    "    if intents[i] == \"Homicide\":\n",
    "        if race in homicide_race_per_hundredk:\n",
    "            homicide_race_per_hundredk[race] += 1\n",
    "        else:\n",
    "            homicide_race_per_hundredk[race] = 1\n",
    "\n",
    "print(homicide_race_per_hundredk)\n"
   ]
  },
  {
   "cell_type": "code",
   "execution_count": 23,
   "metadata": {
    "collapsed": false
   },
   "outputs": [
    {
     "name": "stdout",
     "output_type": "stream",
     "text": [
      "{'Asian/Pacific Islander': 3.530346230970155, 'Black': 48.471284987180944, 'Native American/Native Alaskan': 8.717729026240365, 'White': 4.6356417981453335, 'Hispanic': 12.627161104219914}\n"
     ]
    }
   ],
   "source": [
    "mapping = {\"Asian/Pacific Islander\": 15159516 + 674625,\n",
    "    \"Native American/Native Alaskan\": 3739506,\n",
    "    \"Black\": 40250635,\n",
    "    \"Hispanic\": 44618105,\n",
    "    \"White\": 197318956\n",
    "}\n",
    "\n",
    "race_per_hundredk = {}\n",
    "for k,v in homicide_race_per_hundredk.items():\n",
    "    race_per_hundredk[k] = 100000*(v/mapping[k])\n",
    "    \n",
    "print(race_per_hundredk)"
   ]
  },
  {
   "cell_type": "code",
   "execution_count": null,
   "metadata": {
    "collapsed": true
   },
   "outputs": [],
   "source": []
  }
 ],
 "metadata": {
  "kernelspec": {
   "display_name": "Python 3",
   "language": "python",
   "name": "python3"
  },
  "language_info": {
   "codemirror_mode": {
    "name": "ipython",
    "version": 3
   },
   "file_extension": ".py",
   "mimetype": "text/x-python",
   "name": "python",
   "nbconvert_exporter": "python",
   "pygments_lexer": "ipython3",
   "version": "3.4.3"
  }
 },
 "nbformat": 4,
 "nbformat_minor": 0
}
